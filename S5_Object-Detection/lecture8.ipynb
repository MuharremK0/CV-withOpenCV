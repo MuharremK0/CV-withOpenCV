{
 "cells": [
  {
   "cell_type": "code",
   "execution_count": 77,
   "id": "initial_id",
   "metadata": {
    "collapsed": true,
    "ExecuteTime": {
     "end_time": "2024-06-17T17:08:44.670400900Z",
     "start_time": "2024-06-17T17:08:44.599451600Z"
    }
   },
   "outputs": [],
   "source": [
    "import cv2\n",
    "import numpy as np\n",
    "import matplotlib.pyplot as plt\n",
    "%matplotlib inline"
   ]
  },
  {
   "cell_type": "code",
   "execution_count": 78,
   "outputs": [],
   "source": [
    "road = cv2.imread(r'../DATA/road_image.jpg')"
   ],
   "metadata": {
    "collapsed": false,
    "ExecuteTime": {
     "end_time": "2024-06-17T17:08:44.670400900Z",
     "start_time": "2024-06-17T17:08:44.623138300Z"
    }
   },
   "id": "e98b28040dc292da"
  },
  {
   "cell_type": "code",
   "execution_count": 79,
   "outputs": [],
   "source": [
    "road_copy = np.copy(road)"
   ],
   "metadata": {
    "collapsed": false,
    "ExecuteTime": {
     "end_time": "2024-06-17T17:08:44.670400900Z",
     "start_time": "2024-06-17T17:08:44.639154100Z"
    }
   },
   "id": "bfcd696ee5d6791b"
  },
  {
   "cell_type": "code",
   "execution_count": 80,
   "outputs": [],
   "source": [
    "# plt.imshow(road)"
   ],
   "metadata": {
    "collapsed": false,
    "ExecuteTime": {
     "end_time": "2024-06-17T17:08:44.670400900Z",
     "start_time": "2024-06-17T17:08:44.654777700Z"
    }
   },
   "id": "de653fea2d0adbaf"
  },
  {
   "cell_type": "code",
   "execution_count": 81,
   "outputs": [
    {
     "data": {
      "text/plain": "(600, 800)"
     },
     "execution_count": 81,
     "metadata": {},
     "output_type": "execute_result"
    }
   ],
   "source": [
    "road.shape[:2]"
   ],
   "metadata": {
    "collapsed": false,
    "ExecuteTime": {
     "end_time": "2024-06-17T17:08:44.686021200Z",
     "start_time": "2024-06-17T17:08:44.670400900Z"
    }
   },
   "id": "cd2b02e588adb88a"
  },
  {
   "cell_type": "code",
   "execution_count": 82,
   "outputs": [],
   "source": [
    "marker_image = np.zeros(road.shape[:2],dtype=np.int32)"
   ],
   "metadata": {
    "collapsed": false,
    "ExecuteTime": {
     "end_time": "2024-06-17T17:08:44.717263900Z",
     "start_time": "2024-06-17T17:08:44.686021200Z"
    }
   },
   "id": "37f19d81896e9a03"
  },
  {
   "cell_type": "code",
   "execution_count": 83,
   "outputs": [],
   "source": [
    "segments = np.zeros(road.shape,dtype=np.uint8)"
   ],
   "metadata": {
    "collapsed": false,
    "ExecuteTime": {
     "end_time": "2024-06-17T17:08:44.717263900Z",
     "start_time": "2024-06-17T17:08:44.701642600Z"
    }
   },
   "id": "1203f1d70fa38bb0"
  },
  {
   "cell_type": "code",
   "execution_count": 84,
   "outputs": [
    {
     "data": {
      "text/plain": "(600, 800)"
     },
     "execution_count": 84,
     "metadata": {},
     "output_type": "execute_result"
    }
   ],
   "source": [
    "marker_image.shape"
   ],
   "metadata": {
    "collapsed": false,
    "ExecuteTime": {
     "end_time": "2024-06-17T17:08:44.732772400Z",
     "start_time": "2024-06-17T17:08:44.717263900Z"
    }
   },
   "id": "b9070d62f07c9f90"
  },
  {
   "cell_type": "code",
   "execution_count": 85,
   "outputs": [
    {
     "data": {
      "text/plain": "(600, 800, 3)"
     },
     "execution_count": 85,
     "metadata": {},
     "output_type": "execute_result"
    }
   ],
   "source": [
    "segments.shape"
   ],
   "metadata": {
    "collapsed": false,
    "ExecuteTime": {
     "end_time": "2024-06-17T17:08:44.748397800Z",
     "start_time": "2024-06-17T17:08:44.732772400Z"
    }
   },
   "id": "ad113a1127bee6c1"
  },
  {
   "cell_type": "code",
   "execution_count": 86,
   "outputs": [],
   "source": [
    "from matplotlib import cm #color mapping (you can see in link)"
   ],
   "metadata": {
    "collapsed": false,
    "ExecuteTime": {
     "end_time": "2024-06-17T17:08:44.810883100Z",
     "start_time": "2024-06-17T17:08:44.748397800Z"
    }
   },
   "id": "3dc5d7f76b9f9da0"
  },
  {
   "cell_type": "code",
   "execution_count": 87,
   "outputs": [
    {
     "data": {
      "text/plain": "(0.12156862745098039, 0.4666666666666667, 0.7058823529411765, 1.0)"
     },
     "execution_count": 87,
     "metadata": {},
     "output_type": "execute_result"
    }
   ],
   "source": [
    "cm.tab10(0) # as an red green blue"
   ],
   "metadata": {
    "collapsed": false,
    "ExecuteTime": {
     "end_time": "2024-06-17T17:08:44.810883100Z",
     "start_time": "2024-06-17T17:08:44.764019Z"
    }
   },
   "id": "7da825a4fb3ce74a"
  },
  {
   "cell_type": "code",
   "execution_count": 88,
   "outputs": [],
   "source": [
    "def create_rgb(i):\n",
    "    return tuple(np.array(cm.tab10(i)[:3])*255)"
   ],
   "metadata": {
    "collapsed": false,
    "ExecuteTime": {
     "end_time": "2024-06-17T17:08:44.810883100Z",
     "start_time": "2024-06-17T17:08:44.779639800Z"
    }
   },
   "id": "f61a975eb25b2627"
  },
  {
   "cell_type": "code",
   "execution_count": 89,
   "outputs": [],
   "source": [
    "colors = []\n",
    "for i in range(10):\n",
    "    colors.append(create_rgb(i))"
   ],
   "metadata": {
    "collapsed": false,
    "ExecuteTime": {
     "end_time": "2024-06-17T17:08:44.810883100Z",
     "start_time": "2024-06-17T17:08:44.795265700Z"
    }
   },
   "id": "3cb6c7867e3d7f8c"
  },
  {
   "cell_type": "code",
   "execution_count": 90,
   "outputs": [
    {
     "data": {
      "text/plain": "[(31.0, 119.0, 180.0),\n (255.0, 127.0, 14.0),\n (44.0, 160.0, 44.0),\n (214.0, 39.0, 40.0),\n (148.0, 103.0, 189.0),\n (140.0, 86.0, 75.0),\n (227.0, 119.0, 194.0),\n (127.0, 127.0, 127.0),\n (188.0, 189.0, 34.0),\n (23.0, 190.0, 207.0)]"
     },
     "execution_count": 90,
     "metadata": {},
     "output_type": "execute_result"
    }
   ],
   "source": [
    "colors"
   ],
   "metadata": {
    "collapsed": false,
    "ExecuteTime": {
     "end_time": "2024-06-17T17:08:44.833009400Z",
     "start_time": "2024-06-17T17:08:44.810883100Z"
    }
   },
   "id": "2c04c7eea5f6fdce"
  },
  {
   "cell_type": "code",
   "execution_count": 91,
   "outputs": [],
   "source": [
    "###\n",
    "#GLOBAL VARIABLES\n",
    "#COLOR CHOICE\n",
    "n_markers = 10 # 0-9\n",
    "current_marker = 1\n",
    "#MARKERS UPDATED BY WATERSHED\n",
    "marks_updates = False"
   ],
   "metadata": {
    "collapsed": false,
    "ExecuteTime": {
     "end_time": "2024-06-17T17:08:44.969231500Z",
     "start_time": "2024-06-17T17:08:44.826503600Z"
    }
   },
   "id": "fee845c3bd466ca6"
  },
  {
   "cell_type": "code",
   "execution_count": 92,
   "outputs": [],
   "source": [
    "#CALLBACK FUNCTION\n",
    "def mouse_callback(event,x,y,flags,param):\n",
    "    global marks_updates\n",
    "    \n",
    "    if event == cv2.EVENT_LBUTTONDOWN:\n",
    "        #MARKERS PASSED TO THE WATERSHED ALGO\n",
    "        cv2.circle(marker_image,(x,y),10,(current_marker),-1)\n",
    "        \n",
    "        #USER SEES ON THE ROAD IMAGE\n",
    "        cv2.circle(road_copy,(x,y),10,colors[current_marker],-1)\n",
    "        \n",
    "        marks_updates = True"
   ],
   "metadata": {
    "collapsed": false,
    "ExecuteTime": {
     "end_time": "2024-06-17T17:08:44.972226800Z",
     "start_time": "2024-06-17T17:08:44.842516700Z"
    }
   },
   "id": "91f1256e4d10bea2"
  },
  {
   "cell_type": "code",
   "execution_count": 93,
   "outputs": [],
   "source": [
    "#WHILE TRUE\n",
    "cv2.namedWindow('Road Image')\n",
    "cv2.setMouseCallback('Road Image',mouse_callback)\n",
    "\n",
    "while True:\n",
    "    cv2.imshow('Watershed Segments',segments)\n",
    "    cv2.imshow('Road Image',road_copy)\n",
    "    \n",
    "    #CLOSE ALL WINDOWS\n",
    "    k = cv2.waitKey(1)\n",
    "    if k == 27:\n",
    "        break\n",
    "   \n",
    "    #CLEARING ALL THE COLORS PRESS C KEY\n",
    "    elif k == ord('c'):\n",
    "        road_copy = road.copy()\n",
    "        marker_image = np.zeros(road.shape[:2],dtype=np.int32)\n",
    "        segments = np.zeros(road.shape,dtype=np.uint8)\n",
    "    \n",
    "    #UPDATE COLOR CHOICE\n",
    "    elif k > 0 and chr(k).isdigit():\n",
    "        current_marker = int(chr(k))\n",
    "        \n",
    "    #UPDATE THE MARKINGS\n",
    "    if marks_updates:\n",
    "        marker_image_copy = marker_image.copy()\n",
    "        cv2.watershed(road,marker_image_copy)\n",
    "        segments = np.zeros(road.shape,dtype=np.uint8)\n",
    "        \n",
    "        for color_ind in range(n_markers):\n",
    "            #COLORING SEGMENTS, NUMPY CALL\n",
    "            segments[marker_image_copy==(color_ind)] = colors[color_ind]\n",
    "\n",
    "\n",
    "cv2.destroyAllWindows()   "
   ],
   "metadata": {
    "collapsed": false,
    "ExecuteTime": {
     "end_time": "2024-06-17T17:10:07.216033700Z",
     "start_time": "2024-06-17T17:08:44.858141600Z"
    }
   },
   "id": "ff8f5351bc8c1c38"
  }
 ],
 "metadata": {
  "kernelspec": {
   "display_name": "Python 3",
   "language": "python",
   "name": "python3"
  },
  "language_info": {
   "codemirror_mode": {
    "name": "ipython",
    "version": 2
   },
   "file_extension": ".py",
   "mimetype": "text/x-python",
   "name": "python",
   "nbconvert_exporter": "python",
   "pygments_lexer": "ipython2",
   "version": "2.7.6"
  }
 },
 "nbformat": 4,
 "nbformat_minor": 5
}

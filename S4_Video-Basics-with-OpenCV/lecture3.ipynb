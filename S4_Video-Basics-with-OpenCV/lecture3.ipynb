{
 "cells": [
  {
   "cell_type": "code",
   "execution_count": 3,
   "id": "initial_id",
   "metadata": {
    "collapsed": true,
    "ExecuteTime": {
     "end_time": "2024-03-09T20:29:28.184582300Z",
     "start_time": "2024-03-09T20:29:10.597496700Z"
    }
   },
   "outputs": [],
   "source": [
    "import cv2\n",
    "\n",
    "#CALLBACK FUNCTION RECTANGLE\n",
    "def draw_rectangle(event,x,y,flags,param):\n",
    "    global pt1,pt2,topLeft_clicked,botRight_clicked\n",
    "    if event == cv2.EVENT_LBUTTONDOWN:\n",
    "        #RESET\n",
    "        if topLeft_clicked == True and botRight_clicked == True:\n",
    "            pt1=(0,0)\n",
    "            pt2=(0,0)\n",
    "            topLeft_clicked=False\n",
    "            botRight_clicked=False\n",
    "        if topLeft_clicked == False:\n",
    "            pt1=(x,y)\n",
    "            topLeft_clicked=True\n",
    "        elif botRight_clicked == False:\n",
    "            pt2=(x,y)\n",
    "            botRight_clicked=True\n",
    "\n",
    "#GLOBAL VARIABLES\n",
    "pt1=(0,0)\n",
    "pt2=(0,0)\n",
    "topLeft_clicked=False\n",
    "botRight_clicked=False\n",
    "\n",
    "#CONNECT TO THE CALLBACK\n",
    "cap=cv2.VideoCapture(0)\n",
    "cv2.namedWindow('Test')\n",
    "cv2.setMouseCallback('Test',draw_rectangle)\n",
    "\n",
    "while True:\n",
    "    ret,frame=cap.read()\n",
    "    \n",
    "    #DRAWING ON THE FRAME BASED OFF THE GLOBAL VARIABLES\n",
    "    if topLeft_clicked:\n",
    "        cv2.circle(frame,center=pt1,radius=5,color=(0,0,255),thickness=-1)\n",
    "    if topLeft_clicked and botRight_clicked:\n",
    "        cv2.rectangle(frame,pt1,pt2,(0,0,255),3)\n",
    "    cv2.imshow('Test',frame)\n",
    "    \n",
    "    if cv2.waitKey(1) & 0xFF == ord('q'):\n",
    "        break\n",
    "\n",
    "cap.release()\n",
    "cv2.destroyAllWindows()"
   ]
  },
  {
   "cell_type": "code",
   "execution_count": null,
   "outputs": [],
   "source": [],
   "metadata": {
    "collapsed": false
   },
   "id": "8822b9c9eedf75a6"
  }
 ],
 "metadata": {
  "kernelspec": {
   "display_name": "Python 3",
   "language": "python",
   "name": "python3"
  },
  "language_info": {
   "codemirror_mode": {
    "name": "ipython",
    "version": 2
   },
   "file_extension": ".py",
   "mimetype": "text/x-python",
   "name": "python",
   "nbconvert_exporter": "python",
   "pygments_lexer": "ipython2",
   "version": "2.7.6"
  }
 },
 "nbformat": 4,
 "nbformat_minor": 5
}

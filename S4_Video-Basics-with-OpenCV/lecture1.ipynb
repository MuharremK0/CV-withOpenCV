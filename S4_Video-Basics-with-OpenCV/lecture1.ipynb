{
 "cells": [
  {
   "cell_type": "code",
   "execution_count": 1,
   "id": "initial_id",
   "metadata": {
    "collapsed": true,
    "ExecuteTime": {
     "end_time": "2024-03-09T19:37:17.049301300Z",
     "start_time": "2024-03-09T19:37:07.543749400Z"
    }
   },
   "outputs": [],
   "source": [
    "import cv2\n",
    "\n",
    "cap=cv2.VideoCapture(0)\n",
    "\n",
    "width=int(cap.get(cv2.CAP_PROP_FRAME_WIDTH))\n",
    "height=int(cap.get(cv2.CAP_PROP_FRAME_HEIGHT))\n",
    "\n",
    "writer=cv2.VideoWriter('./mysupervideo.mp4',cv2.VideoWriter.fourcc(*'DIVX'),20,(width,height)) # for windows divx,for macos or linux  xvid\n",
    "\n",
    "while True:\n",
    "    ret,frame=cap.read()\n",
    "    writer.write(frame)\n",
    "    gray=cv2.cvtColor(frame,cv2.COLOR_BGR2GRAY)\n",
    "    cv2.imshow('frame',gray)\n",
    "    \n",
    "    if(cv2.waitKey(1) & 0xFF==ord('q')):\n",
    "        break\n",
    "\n",
    "cap.release()\n",
    "writer.release()\n",
    "cv2.destroyAllWindows()"
   ]
  },
  {
   "cell_type": "code",
   "execution_count": 2,
   "outputs": [
    {
     "data": {
      "text/plain": "'C:\\\\Users\\\\PC\\\\Documents\\\\GitHub\\\\CV-withOpenCV\\\\S4_Video-Basics-with-OpenCV'"
     },
     "execution_count": 2,
     "metadata": {},
     "output_type": "execute_result"
    }
   ],
   "source": [
    "pwd"
   ],
   "metadata": {
    "collapsed": false,
    "ExecuteTime": {
     "end_time": "2024-03-09T19:37:17.079225800Z",
     "start_time": "2024-03-09T19:37:17.022864800Z"
    }
   },
   "id": "faaebd7eeae4b8d4"
  }
 ],
 "metadata": {
  "kernelspec": {
   "display_name": "Python 3",
   "language": "python",
   "name": "python3"
  },
  "language_info": {
   "codemirror_mode": {
    "name": "ipython",
    "version": 2
   },
   "file_extension": ".py",
   "mimetype": "text/x-python",
   "name": "python",
   "nbconvert_exporter": "python",
   "pygments_lexer": "ipython2",
   "version": "2.7.6"
  }
 },
 "nbformat": 4,
 "nbformat_minor": 5
}
